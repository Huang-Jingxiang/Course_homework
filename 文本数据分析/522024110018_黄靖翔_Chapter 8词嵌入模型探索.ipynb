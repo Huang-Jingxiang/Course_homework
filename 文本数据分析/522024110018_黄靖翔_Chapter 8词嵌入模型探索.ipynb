{
 "cells": [
  {
   "cell_type": "code",
   "execution_count": 2,
   "id": "dcd60f77",
   "metadata": {},
   "outputs": [
    {
     "name": "stdout",
     "output_type": "stream",
     "text": [
      "Collecting gensim\n",
      "  Using cached gensim-4.3.3-cp310-cp310-macosx_11_0_arm64.whl.metadata (8.2 kB)\n",
      "Requirement already satisfied: numpy<2.0,>=1.18.5 in /opt/anaconda3/envs/causal/lib/python3.10/site-packages (from gensim) (1.26.4)\n",
      "Collecting scipy<1.14.0,>=1.7.0 (from gensim)\n",
      "  Using cached scipy-1.13.1-cp310-cp310-macosx_12_0_arm64.whl.metadata (60 kB)\n",
      "Collecting smart-open>=1.8.1 (from gensim)\n",
      "  Downloading smart_open-7.1.0-py3-none-any.whl.metadata (24 kB)\n",
      "Requirement already satisfied: wrapt in /opt/anaconda3/envs/causal/lib/python3.10/site-packages (from smart-open>=1.8.1->gensim) (1.17.2)\n",
      "Using cached gensim-4.3.3-cp310-cp310-macosx_11_0_arm64.whl (24.0 MB)\n",
      "Using cached scipy-1.13.1-cp310-cp310-macosx_12_0_arm64.whl (30.3 MB)\n",
      "Downloading smart_open-7.1.0-py3-none-any.whl (61 kB)\n",
      "Installing collected packages: smart-open, scipy, gensim\n",
      "\u001b[2K  Attempting uninstall: scipy\n",
      "\u001b[2K    Found existing installation: scipy 1.15.3\n",
      "\u001b[2K    Uninstalling scipy-1.15.3:╺\u001b[0m\u001b[90m━━━━━━━━━━━━━━━━━━━━━━━━━━\u001b[0m \u001b[32m1/3\u001b[0m [scipy]\n",
      "\u001b[2K      Successfully uninstalled scipy-1.15.3━━━━━━━━━━━━━━━━━━━\u001b[0m \u001b[32m1/3\u001b[0m [scipy]\n",
      "\u001b[2K   \u001b[90m━━━━━━━━━━━━━━━━━━━━━━━━━━━━━━━━━━━━━━━━\u001b[0m \u001b[32m3/3\u001b[0m [gensim]2m2/3\u001b[0m [gensim]\n",
      "\u001b[1A\u001b[2KSuccessfully installed gensim-4.3.3 scipy-1.13.1 smart-open-7.1.0\n"
     ]
    }
   ],
   "source": [
    "!pip install gensim"
   ]
  },
  {
   "cell_type": "code",
   "execution_count": 52,
   "id": "668d772d",
   "metadata": {},
   "outputs": [
    {
     "data": {
      "text/plain": [
       "<gensim.models.keyedvectors.KeyedVectors at 0x319951bd0>"
      ]
     },
     "execution_count": 52,
     "metadata": {},
     "output_type": "execute_result"
    }
   ],
   "source": [
    "from gensim.models.keyedvectors import KeyedVectors\n",
    "\n",
    "#以金融sgns.financial.bigram.bz2为例\n",
    "model = KeyedVectors.load_word2vec_format('/Users/jing/Documents/model/sgns.weibo.bigram-char.bz2', \n",
    "                                          binary=False, \n",
    "                                          unicode_errors='ignore')\n",
    "\n",
    "\n",
    "model"
   ]
  },
  {
   "cell_type": "code",
   "execution_count": 51,
   "id": "d3ca9886",
   "metadata": {},
   "outputs": [],
   "source": [
    "import numpy as np\n",
    "\n",
    "def get_sentence_embedding(sentence, model):\n",
    "    tokens = list(sentence)  # 如果模型是按字训练的\n",
    "    vectors = [model[token] for token in tokens if token in model]\n",
    "    if vectors:\n",
    "        return np.mean(vectors, axis=0)\n",
    "    else:\n",
    "        return np.zeros(model.vector_size)\n",
    "\n",
    "# 示例\n",
    "sentence = \"我发现了，ChatGPT出现之后，无论是就业还是用工，都变难了许多\"\n",
    "embedding = get_sentence_embedding(sentence, model)"
   ]
  },
  {
   "cell_type": "code",
   "execution_count": 4,
   "id": "e038feec",
   "metadata": {},
   "outputs": [
    {
     "data": {
      "text/html": [
       "<style>#sk-container-id-1 {\n",
       "  /* Definition of color scheme common for light and dark mode */\n",
       "  --sklearn-color-text: #000;\n",
       "  --sklearn-color-text-muted: #666;\n",
       "  --sklearn-color-line: gray;\n",
       "  /* Definition of color scheme for unfitted estimators */\n",
       "  --sklearn-color-unfitted-level-0: #fff5e6;\n",
       "  --sklearn-color-unfitted-level-1: #f6e4d2;\n",
       "  --sklearn-color-unfitted-level-2: #ffe0b3;\n",
       "  --sklearn-color-unfitted-level-3: chocolate;\n",
       "  /* Definition of color scheme for fitted estimators */\n",
       "  --sklearn-color-fitted-level-0: #f0f8ff;\n",
       "  --sklearn-color-fitted-level-1: #d4ebff;\n",
       "  --sklearn-color-fitted-level-2: #b3dbfd;\n",
       "  --sklearn-color-fitted-level-3: cornflowerblue;\n",
       "\n",
       "  /* Specific color for light theme */\n",
       "  --sklearn-color-text-on-default-background: var(--sg-text-color, var(--theme-code-foreground, var(--jp-content-font-color1, black)));\n",
       "  --sklearn-color-background: var(--sg-background-color, var(--theme-background, var(--jp-layout-color0, white)));\n",
       "  --sklearn-color-border-box: var(--sg-text-color, var(--theme-code-foreground, var(--jp-content-font-color1, black)));\n",
       "  --sklearn-color-icon: #696969;\n",
       "\n",
       "  @media (prefers-color-scheme: dark) {\n",
       "    /* Redefinition of color scheme for dark theme */\n",
       "    --sklearn-color-text-on-default-background: var(--sg-text-color, var(--theme-code-foreground, var(--jp-content-font-color1, white)));\n",
       "    --sklearn-color-background: var(--sg-background-color, var(--theme-background, var(--jp-layout-color0, #111)));\n",
       "    --sklearn-color-border-box: var(--sg-text-color, var(--theme-code-foreground, var(--jp-content-font-color1, white)));\n",
       "    --sklearn-color-icon: #878787;\n",
       "  }\n",
       "}\n",
       "\n",
       "#sk-container-id-1 {\n",
       "  color: var(--sklearn-color-text);\n",
       "}\n",
       "\n",
       "#sk-container-id-1 pre {\n",
       "  padding: 0;\n",
       "}\n",
       "\n",
       "#sk-container-id-1 input.sk-hidden--visually {\n",
       "  border: 0;\n",
       "  clip: rect(1px 1px 1px 1px);\n",
       "  clip: rect(1px, 1px, 1px, 1px);\n",
       "  height: 1px;\n",
       "  margin: -1px;\n",
       "  overflow: hidden;\n",
       "  padding: 0;\n",
       "  position: absolute;\n",
       "  width: 1px;\n",
       "}\n",
       "\n",
       "#sk-container-id-1 div.sk-dashed-wrapped {\n",
       "  border: 1px dashed var(--sklearn-color-line);\n",
       "  margin: 0 0.4em 0.5em 0.4em;\n",
       "  box-sizing: border-box;\n",
       "  padding-bottom: 0.4em;\n",
       "  background-color: var(--sklearn-color-background);\n",
       "}\n",
       "\n",
       "#sk-container-id-1 div.sk-container {\n",
       "  /* jupyter's `normalize.less` sets `[hidden] { display: none; }`\n",
       "     but bootstrap.min.css set `[hidden] { display: none !important; }`\n",
       "     so we also need the `!important` here to be able to override the\n",
       "     default hidden behavior on the sphinx rendered scikit-learn.org.\n",
       "     See: https://github.com/scikit-learn/scikit-learn/issues/21755 */\n",
       "  display: inline-block !important;\n",
       "  position: relative;\n",
       "}\n",
       "\n",
       "#sk-container-id-1 div.sk-text-repr-fallback {\n",
       "  display: none;\n",
       "}\n",
       "\n",
       "div.sk-parallel-item,\n",
       "div.sk-serial,\n",
       "div.sk-item {\n",
       "  /* draw centered vertical line to link estimators */\n",
       "  background-image: linear-gradient(var(--sklearn-color-text-on-default-background), var(--sklearn-color-text-on-default-background));\n",
       "  background-size: 2px 100%;\n",
       "  background-repeat: no-repeat;\n",
       "  background-position: center center;\n",
       "}\n",
       "\n",
       "/* Parallel-specific style estimator block */\n",
       "\n",
       "#sk-container-id-1 div.sk-parallel-item::after {\n",
       "  content: \"\";\n",
       "  width: 100%;\n",
       "  border-bottom: 2px solid var(--sklearn-color-text-on-default-background);\n",
       "  flex-grow: 1;\n",
       "}\n",
       "\n",
       "#sk-container-id-1 div.sk-parallel {\n",
       "  display: flex;\n",
       "  align-items: stretch;\n",
       "  justify-content: center;\n",
       "  background-color: var(--sklearn-color-background);\n",
       "  position: relative;\n",
       "}\n",
       "\n",
       "#sk-container-id-1 div.sk-parallel-item {\n",
       "  display: flex;\n",
       "  flex-direction: column;\n",
       "}\n",
       "\n",
       "#sk-container-id-1 div.sk-parallel-item:first-child::after {\n",
       "  align-self: flex-end;\n",
       "  width: 50%;\n",
       "}\n",
       "\n",
       "#sk-container-id-1 div.sk-parallel-item:last-child::after {\n",
       "  align-self: flex-start;\n",
       "  width: 50%;\n",
       "}\n",
       "\n",
       "#sk-container-id-1 div.sk-parallel-item:only-child::after {\n",
       "  width: 0;\n",
       "}\n",
       "\n",
       "/* Serial-specific style estimator block */\n",
       "\n",
       "#sk-container-id-1 div.sk-serial {\n",
       "  display: flex;\n",
       "  flex-direction: column;\n",
       "  align-items: center;\n",
       "  background-color: var(--sklearn-color-background);\n",
       "  padding-right: 1em;\n",
       "  padding-left: 1em;\n",
       "}\n",
       "\n",
       "\n",
       "/* Toggleable style: style used for estimator/Pipeline/ColumnTransformer box that is\n",
       "clickable and can be expanded/collapsed.\n",
       "- Pipeline and ColumnTransformer use this feature and define the default style\n",
       "- Estimators will overwrite some part of the style using the `sk-estimator` class\n",
       "*/\n",
       "\n",
       "/* Pipeline and ColumnTransformer style (default) */\n",
       "\n",
       "#sk-container-id-1 div.sk-toggleable {\n",
       "  /* Default theme specific background. It is overwritten whether we have a\n",
       "  specific estimator or a Pipeline/ColumnTransformer */\n",
       "  background-color: var(--sklearn-color-background);\n",
       "}\n",
       "\n",
       "/* Toggleable label */\n",
       "#sk-container-id-1 label.sk-toggleable__label {\n",
       "  cursor: pointer;\n",
       "  display: flex;\n",
       "  width: 100%;\n",
       "  margin-bottom: 0;\n",
       "  padding: 0.5em;\n",
       "  box-sizing: border-box;\n",
       "  text-align: center;\n",
       "  align-items: start;\n",
       "  justify-content: space-between;\n",
       "  gap: 0.5em;\n",
       "}\n",
       "\n",
       "#sk-container-id-1 label.sk-toggleable__label .caption {\n",
       "  font-size: 0.6rem;\n",
       "  font-weight: lighter;\n",
       "  color: var(--sklearn-color-text-muted);\n",
       "}\n",
       "\n",
       "#sk-container-id-1 label.sk-toggleable__label-arrow:before {\n",
       "  /* Arrow on the left of the label */\n",
       "  content: \"▸\";\n",
       "  float: left;\n",
       "  margin-right: 0.25em;\n",
       "  color: var(--sklearn-color-icon);\n",
       "}\n",
       "\n",
       "#sk-container-id-1 label.sk-toggleable__label-arrow:hover:before {\n",
       "  color: var(--sklearn-color-text);\n",
       "}\n",
       "\n",
       "/* Toggleable content - dropdown */\n",
       "\n",
       "#sk-container-id-1 div.sk-toggleable__content {\n",
       "  max-height: 0;\n",
       "  max-width: 0;\n",
       "  overflow: hidden;\n",
       "  text-align: left;\n",
       "  /* unfitted */\n",
       "  background-color: var(--sklearn-color-unfitted-level-0);\n",
       "}\n",
       "\n",
       "#sk-container-id-1 div.sk-toggleable__content.fitted {\n",
       "  /* fitted */\n",
       "  background-color: var(--sklearn-color-fitted-level-0);\n",
       "}\n",
       "\n",
       "#sk-container-id-1 div.sk-toggleable__content pre {\n",
       "  margin: 0.2em;\n",
       "  border-radius: 0.25em;\n",
       "  color: var(--sklearn-color-text);\n",
       "  /* unfitted */\n",
       "  background-color: var(--sklearn-color-unfitted-level-0);\n",
       "}\n",
       "\n",
       "#sk-container-id-1 div.sk-toggleable__content.fitted pre {\n",
       "  /* unfitted */\n",
       "  background-color: var(--sklearn-color-fitted-level-0);\n",
       "}\n",
       "\n",
       "#sk-container-id-1 input.sk-toggleable__control:checked~div.sk-toggleable__content {\n",
       "  /* Expand drop-down */\n",
       "  max-height: 200px;\n",
       "  max-width: 100%;\n",
       "  overflow: auto;\n",
       "}\n",
       "\n",
       "#sk-container-id-1 input.sk-toggleable__control:checked~label.sk-toggleable__label-arrow:before {\n",
       "  content: \"▾\";\n",
       "}\n",
       "\n",
       "/* Pipeline/ColumnTransformer-specific style */\n",
       "\n",
       "#sk-container-id-1 div.sk-label input.sk-toggleable__control:checked~label.sk-toggleable__label {\n",
       "  color: var(--sklearn-color-text);\n",
       "  background-color: var(--sklearn-color-unfitted-level-2);\n",
       "}\n",
       "\n",
       "#sk-container-id-1 div.sk-label.fitted input.sk-toggleable__control:checked~label.sk-toggleable__label {\n",
       "  background-color: var(--sklearn-color-fitted-level-2);\n",
       "}\n",
       "\n",
       "/* Estimator-specific style */\n",
       "\n",
       "/* Colorize estimator box */\n",
       "#sk-container-id-1 div.sk-estimator input.sk-toggleable__control:checked~label.sk-toggleable__label {\n",
       "  /* unfitted */\n",
       "  background-color: var(--sklearn-color-unfitted-level-2);\n",
       "}\n",
       "\n",
       "#sk-container-id-1 div.sk-estimator.fitted input.sk-toggleable__control:checked~label.sk-toggleable__label {\n",
       "  /* fitted */\n",
       "  background-color: var(--sklearn-color-fitted-level-2);\n",
       "}\n",
       "\n",
       "#sk-container-id-1 div.sk-label label.sk-toggleable__label,\n",
       "#sk-container-id-1 div.sk-label label {\n",
       "  /* The background is the default theme color */\n",
       "  color: var(--sklearn-color-text-on-default-background);\n",
       "}\n",
       "\n",
       "/* On hover, darken the color of the background */\n",
       "#sk-container-id-1 div.sk-label:hover label.sk-toggleable__label {\n",
       "  color: var(--sklearn-color-text);\n",
       "  background-color: var(--sklearn-color-unfitted-level-2);\n",
       "}\n",
       "\n",
       "/* Label box, darken color on hover, fitted */\n",
       "#sk-container-id-1 div.sk-label.fitted:hover label.sk-toggleable__label.fitted {\n",
       "  color: var(--sklearn-color-text);\n",
       "  background-color: var(--sklearn-color-fitted-level-2);\n",
       "}\n",
       "\n",
       "/* Estimator label */\n",
       "\n",
       "#sk-container-id-1 div.sk-label label {\n",
       "  font-family: monospace;\n",
       "  font-weight: bold;\n",
       "  display: inline-block;\n",
       "  line-height: 1.2em;\n",
       "}\n",
       "\n",
       "#sk-container-id-1 div.sk-label-container {\n",
       "  text-align: center;\n",
       "}\n",
       "\n",
       "/* Estimator-specific */\n",
       "#sk-container-id-1 div.sk-estimator {\n",
       "  font-family: monospace;\n",
       "  border: 1px dotted var(--sklearn-color-border-box);\n",
       "  border-radius: 0.25em;\n",
       "  box-sizing: border-box;\n",
       "  margin-bottom: 0.5em;\n",
       "  /* unfitted */\n",
       "  background-color: var(--sklearn-color-unfitted-level-0);\n",
       "}\n",
       "\n",
       "#sk-container-id-1 div.sk-estimator.fitted {\n",
       "  /* fitted */\n",
       "  background-color: var(--sklearn-color-fitted-level-0);\n",
       "}\n",
       "\n",
       "/* on hover */\n",
       "#sk-container-id-1 div.sk-estimator:hover {\n",
       "  /* unfitted */\n",
       "  background-color: var(--sklearn-color-unfitted-level-2);\n",
       "}\n",
       "\n",
       "#sk-container-id-1 div.sk-estimator.fitted:hover {\n",
       "  /* fitted */\n",
       "  background-color: var(--sklearn-color-fitted-level-2);\n",
       "}\n",
       "\n",
       "/* Specification for estimator info (e.g. \"i\" and \"?\") */\n",
       "\n",
       "/* Common style for \"i\" and \"?\" */\n",
       "\n",
       ".sk-estimator-doc-link,\n",
       "a:link.sk-estimator-doc-link,\n",
       "a:visited.sk-estimator-doc-link {\n",
       "  float: right;\n",
       "  font-size: smaller;\n",
       "  line-height: 1em;\n",
       "  font-family: monospace;\n",
       "  background-color: var(--sklearn-color-background);\n",
       "  border-radius: 1em;\n",
       "  height: 1em;\n",
       "  width: 1em;\n",
       "  text-decoration: none !important;\n",
       "  margin-left: 0.5em;\n",
       "  text-align: center;\n",
       "  /* unfitted */\n",
       "  border: var(--sklearn-color-unfitted-level-1) 1pt solid;\n",
       "  color: var(--sklearn-color-unfitted-level-1);\n",
       "}\n",
       "\n",
       ".sk-estimator-doc-link.fitted,\n",
       "a:link.sk-estimator-doc-link.fitted,\n",
       "a:visited.sk-estimator-doc-link.fitted {\n",
       "  /* fitted */\n",
       "  border: var(--sklearn-color-fitted-level-1) 1pt solid;\n",
       "  color: var(--sklearn-color-fitted-level-1);\n",
       "}\n",
       "\n",
       "/* On hover */\n",
       "div.sk-estimator:hover .sk-estimator-doc-link:hover,\n",
       ".sk-estimator-doc-link:hover,\n",
       "div.sk-label-container:hover .sk-estimator-doc-link:hover,\n",
       ".sk-estimator-doc-link:hover {\n",
       "  /* unfitted */\n",
       "  background-color: var(--sklearn-color-unfitted-level-3);\n",
       "  color: var(--sklearn-color-background);\n",
       "  text-decoration: none;\n",
       "}\n",
       "\n",
       "div.sk-estimator.fitted:hover .sk-estimator-doc-link.fitted:hover,\n",
       ".sk-estimator-doc-link.fitted:hover,\n",
       "div.sk-label-container:hover .sk-estimator-doc-link.fitted:hover,\n",
       ".sk-estimator-doc-link.fitted:hover {\n",
       "  /* fitted */\n",
       "  background-color: var(--sklearn-color-fitted-level-3);\n",
       "  color: var(--sklearn-color-background);\n",
       "  text-decoration: none;\n",
       "}\n",
       "\n",
       "/* Span, style for the box shown on hovering the info icon */\n",
       ".sk-estimator-doc-link span {\n",
       "  display: none;\n",
       "  z-index: 9999;\n",
       "  position: relative;\n",
       "  font-weight: normal;\n",
       "  right: .2ex;\n",
       "  padding: .5ex;\n",
       "  margin: .5ex;\n",
       "  width: min-content;\n",
       "  min-width: 20ex;\n",
       "  max-width: 50ex;\n",
       "  color: var(--sklearn-color-text);\n",
       "  box-shadow: 2pt 2pt 4pt #999;\n",
       "  /* unfitted */\n",
       "  background: var(--sklearn-color-unfitted-level-0);\n",
       "  border: .5pt solid var(--sklearn-color-unfitted-level-3);\n",
       "}\n",
       "\n",
       ".sk-estimator-doc-link.fitted span {\n",
       "  /* fitted */\n",
       "  background: var(--sklearn-color-fitted-level-0);\n",
       "  border: var(--sklearn-color-fitted-level-3);\n",
       "}\n",
       "\n",
       ".sk-estimator-doc-link:hover span {\n",
       "  display: block;\n",
       "}\n",
       "\n",
       "/* \"?\"-specific style due to the `<a>` HTML tag */\n",
       "\n",
       "#sk-container-id-1 a.estimator_doc_link {\n",
       "  float: right;\n",
       "  font-size: 1rem;\n",
       "  line-height: 1em;\n",
       "  font-family: monospace;\n",
       "  background-color: var(--sklearn-color-background);\n",
       "  border-radius: 1rem;\n",
       "  height: 1rem;\n",
       "  width: 1rem;\n",
       "  text-decoration: none;\n",
       "  /* unfitted */\n",
       "  color: var(--sklearn-color-unfitted-level-1);\n",
       "  border: var(--sklearn-color-unfitted-level-1) 1pt solid;\n",
       "}\n",
       "\n",
       "#sk-container-id-1 a.estimator_doc_link.fitted {\n",
       "  /* fitted */\n",
       "  border: var(--sklearn-color-fitted-level-1) 1pt solid;\n",
       "  color: var(--sklearn-color-fitted-level-1);\n",
       "}\n",
       "\n",
       "/* On hover */\n",
       "#sk-container-id-1 a.estimator_doc_link:hover {\n",
       "  /* unfitted */\n",
       "  background-color: var(--sklearn-color-unfitted-level-3);\n",
       "  color: var(--sklearn-color-background);\n",
       "  text-decoration: none;\n",
       "}\n",
       "\n",
       "#sk-container-id-1 a.estimator_doc_link.fitted:hover {\n",
       "  /* fitted */\n",
       "  background-color: var(--sklearn-color-fitted-level-3);\n",
       "}\n",
       "</style><div id=\"sk-container-id-1\" class=\"sk-top-container\"><div class=\"sk-text-repr-fallback\"><pre>TfidfVectorizer()</pre><b>In a Jupyter environment, please rerun this cell to show the HTML representation or trust the notebook. <br />On GitHub, the HTML representation is unable to render, please try loading this page with nbviewer.org.</b></div><div class=\"sk-container\" hidden><div class=\"sk-item\"><div class=\"sk-estimator fitted sk-toggleable\"><input class=\"sk-toggleable__control sk-hidden--visually\" id=\"sk-estimator-id-1\" type=\"checkbox\" checked><label for=\"sk-estimator-id-1\" class=\"sk-toggleable__label fitted sk-toggleable__label-arrow\"><div><div>TfidfVectorizer</div></div><div><a class=\"sk-estimator-doc-link fitted\" rel=\"noreferrer\" target=\"_blank\" href=\"https://scikit-learn.org/1.6/modules/generated/sklearn.feature_extraction.text.TfidfVectorizer.html\">?<span>Documentation for TfidfVectorizer</span></a><span class=\"sk-estimator-doc-link fitted\">i<span>Fitted</span></span></div></label><div class=\"sk-toggleable__content fitted\"><pre>TfidfVectorizer()</pre></div> </div></div></div></div>"
      ],
      "text/plain": [
       "TfidfVectorizer()"
      ]
     },
     "execution_count": 4,
     "metadata": {},
     "output_type": "execute_result"
    }
   ],
   "source": [
    "import pandas as pd\n",
    "import numpy as np\n",
    "from gensim.models.keyedvectors import KeyedVectors\n",
    "from sklearn.feature_extraction.text import TfidfVectorizer\n",
    "from tqdm import tqdm\n",
    "import jieba\n",
    "\n",
    "# 读取数据\n",
    "df = pd.read_csv('tollm_clean.csv')\n",
    "df[\"原微博内容\"] = df[\"原微博内容\"].fillna(\"\").astype(str)\n",
    "# 构建语料库\n",
    "df[\"分词内容\"] = df[\"原微博内容\"].apply(lambda x: \" \".join(jieba.lcut(x)))\n",
    "corpus = df[\"分词内容\"].tolist()\n",
    "vectorizer = TfidfVectorizer(analyzer='word')\n",
    "vectorizer.fit(corpus)\n"
   ]
  },
  {
   "cell_type": "code",
   "execution_count": 5,
   "id": "3622404d",
   "metadata": {},
   "outputs": [],
   "source": [
    "def get_sentence_embedding_tfidf(sentence, model, vectorizer):\n",
    "    tokens = sentence.split()  # 这里的 sentence 是空格分词后的句子\n",
    "    tfidf_vector = vectorizer.transform([sentence])\n",
    "    feature_names = vectorizer.get_feature_names_out()\n",
    "    word2tfidf = {feature_names[i]: tfidf_vector[0, i] for i in range(len(feature_names))}\n",
    "\n",
    "    embeddings = []\n",
    "    weights = []\n",
    "\n",
    "    for token in tokens:\n",
    "        if token in model and token in word2tfidf:\n",
    "            embeddings.append(model[token] * word2tfidf[token])\n",
    "            weights.append(word2tfidf[token])\n",
    "\n",
    "    if embeddings:\n",
    "        return np.sum(embeddings, axis=0) / (np.sum(weights) + 1e-9)\n",
    "    else:\n",
    "        return np.zeros(model.vector_size)"
   ]
  },
  {
   "cell_type": "code",
   "execution_count": 6,
   "id": "bf2ae7f9",
   "metadata": {},
   "outputs": [
    {
     "name": "stderr",
     "output_type": "stream",
     "text": [
      "Computing TF-IDF weighted embeddings: 100%|██████████| 33983/33983 [6:05:14<00:00,  1.55it/s]  \n"
     ]
    }
   ],
   "source": [
    "tqdm.pandas(desc=\"Computing TF-IDF weighted embeddings\")\n",
    "df[\"embedding\"] = df[\"分词内容\"].progress_apply(\n",
    "    lambda x: get_sentence_embedding_tfidf(x, model, vectorizer)\n",
    ")\n",
    "\n",
    "# embedding_dim = model.vector_size\n",
    "# embedding_matrix = np.vstack(df[\"embedding\"].values)\n"
   ]
  },
  {
   "cell_type": "code",
   "execution_count": 9,
   "id": "85295000",
   "metadata": {},
   "outputs": [
    {
     "data": {
      "text/plain": [
       "Index(['MID', 'embedding'], dtype='object')"
      ]
     },
     "execution_count": 9,
     "metadata": {},
     "output_type": "execute_result"
    }
   ],
   "source": [
    "df.columns"
   ]
  },
  {
   "cell_type": "code",
   "execution_count": 10,
   "id": "157e9ac6",
   "metadata": {},
   "outputs": [
    {
     "data": {
      "text/html": [
       "<div>\n",
       "<style scoped>\n",
       "    .dataframe tbody tr th:only-of-type {\n",
       "        vertical-align: middle;\n",
       "    }\n",
       "\n",
       "    .dataframe tbody tr th {\n",
       "        vertical-align: top;\n",
       "    }\n",
       "\n",
       "    .dataframe thead th {\n",
       "        text-align: right;\n",
       "    }\n",
       "</style>\n",
       "<table border=\"1\" class=\"dataframe\">\n",
       "  <thead>\n",
       "    <tr style=\"text-align: right;\">\n",
       "      <th></th>\n",
       "      <th>MID</th>\n",
       "      <th>embedding</th>\n",
       "    </tr>\n",
       "  </thead>\n",
       "  <tbody>\n",
       "    <tr>\n",
       "      <th>0</th>\n",
       "      <td>4.841876e+15</td>\n",
       "      <td>[0.38143182, 0.29185972, 0.23333767, 0.1143217...</td>\n",
       "    </tr>\n",
       "    <tr>\n",
       "      <th>1</th>\n",
       "      <td>4.841893e+15</td>\n",
       "      <td>[0.44457057, 0.1318372, 0.11913364, 0.2157623,...</td>\n",
       "    </tr>\n",
       "    <tr>\n",
       "      <th>2</th>\n",
       "      <td>4.841901e+15</td>\n",
       "      <td>[0.3688378, 0.2680485, 0.28779536, 0.17973045,...</td>\n",
       "    </tr>\n",
       "    <tr>\n",
       "      <th>3</th>\n",
       "      <td>4.842234e+15</td>\n",
       "      <td>[0.38237205, 0.2435549, 0.17926031, 0.01001578...</td>\n",
       "    </tr>\n",
       "    <tr>\n",
       "      <th>4</th>\n",
       "      <td>4.842255e+15</td>\n",
       "      <td>[0.22546305, 0.36613396, 0.21222816, 0.1032630...</td>\n",
       "    </tr>\n",
       "  </tbody>\n",
       "</table>\n",
       "</div>"
      ],
      "text/plain": [
       "            MID                                          embedding\n",
       "0  4.841876e+15  [0.38143182, 0.29185972, 0.23333767, 0.1143217...\n",
       "1  4.841893e+15  [0.44457057, 0.1318372, 0.11913364, 0.2157623,...\n",
       "2  4.841901e+15  [0.3688378, 0.2680485, 0.28779536, 0.17973045,...\n",
       "3  4.842234e+15  [0.38237205, 0.2435549, 0.17926031, 0.01001578...\n",
       "4  4.842255e+15  [0.22546305, 0.36613396, 0.21222816, 0.1032630..."
      ]
     },
     "execution_count": 10,
     "metadata": {},
     "output_type": "execute_result"
    }
   ],
   "source": [
    "df.head()"
   ]
  },
  {
   "cell_type": "code",
   "execution_count": 8,
   "id": "3de9e5cb",
   "metadata": {},
   "outputs": [],
   "source": [
    "df = df[['MID', 'embedding']]"
   ]
  },
  {
   "cell_type": "code",
   "execution_count": 11,
   "id": "eae8beb0",
   "metadata": {},
   "outputs": [],
   "source": [
    "df.to_csv('embedding.csv', index=False)"
   ]
  },
  {
   "cell_type": "code",
   "execution_count": null,
   "id": "addbca3f",
   "metadata": {},
   "outputs": [],
   "source": [
    "corpus = df[\"分词内容\"].tolist()\n",
    "vectorizer = TfidfVectorizer(analyzer='word')\n",
    "vectorizer.fit(corpus)"
   ]
  },
  {
   "cell_type": "code",
   "execution_count": 10,
   "id": "da3dfa86",
   "metadata": {},
   "outputs": [],
   "source": [
    "import numpy as np\n",
    "from numpy import dot\n",
    "from numpy.linalg import norm\n",
    "\n",
    "def cosine_similarity(vec1, vec2):\n",
    "    if norm(vec1) == 0 or norm(vec2) == 0:\n",
    "        return 0.0\n",
    "    return dot(vec1, vec2) / (norm(vec1) * norm(vec2))"
   ]
  },
  {
   "cell_type": "code",
   "execution_count": 18,
   "id": "2114e81b",
   "metadata": {},
   "outputs": [
    {
     "data": {
      "text/plain": [
       "0.32381225"
      ]
     },
     "execution_count": 18,
     "metadata": {},
     "output_type": "execute_result"
    }
   ],
   "source": [
    "cosine_similarity(embedding, model.get_vector('就业'))"
   ]
  },
  {
   "cell_type": "code",
   "execution_count": 21,
   "id": "88ce0645",
   "metadata": {},
   "outputs": [
    {
     "data": {
      "text/plain": [
       "[('就医难', 0.7379380464553833),\n",
       " ('就业', 0.7311989665031433),\n",
       " ('再就业', 0.7226001024246216),\n",
       " ('就业率', 0.7149927616119385),\n",
       " ('招工难', 0.7038132548332214),\n",
       " ('融资难', 0.6785416603088379),\n",
       " ('就业人口', 0.6658447980880737),\n",
       " ('看病难', 0.6644426584243774),\n",
       " ('守业', 0.6611716151237488),\n",
       " ('择校', 0.6508926153182983)]"
      ]
     },
     "execution_count": 21,
     "metadata": {},
     "output_type": "execute_result"
    }
   ],
   "source": [
    "model.similar_by_key('就业难')\n",
    "\n",
    "# word_list = model.index_to_key\n",
    "# print(len(word_list))          # 词表大小\n",
    "# print(word_list[:100])         # 打印前100个词\n"
   ]
  },
  {
   "cell_type": "code",
   "execution_count": 10,
   "id": "eadfc32b",
   "metadata": {},
   "outputs": [
    {
     "name": "stdout",
     "output_type": "stream",
     "text": [
      "词表已保存，共包含 195197 个词。\n"
     ]
    }
   ],
   "source": [
    "with open('/Users/jing/Documents/model/weibo_word_list.txt', 'w', encoding='utf-8') as f:\n",
    "    for word in word_list:\n",
    "        f.write(word + '\\n')\n",
    "\n",
    "print(f\"词表已保存，共包含 {len(word_list)} 个词。\")"
   ]
  },
  {
   "cell_type": "markdown",
   "id": "ff40cb65",
   "metadata": {},
   "source": [
    "# 正式使用"
   ]
  },
  {
   "cell_type": "code",
   "execution_count": 53,
   "id": "7e7ca108",
   "metadata": {},
   "outputs": [],
   "source": [
    "import numpy as np\n",
    "words = ['就业难', '招工难', '用工荒']\n",
    "\n",
    "# 过滤模型中不存在的词\n",
    "valid_words = [word for word in words if word in model]\n",
    "\n",
    "if not valid_words:\n",
    "    raise ValueError(\"输入的词都不在词向量模型中。\")\n",
    "\n",
    "# 获取词向量并计算平均向量\n",
    "vectors = [model[word] for word in valid_words]\n",
    "center_vector = np.mean(vectors, axis=0)"
   ]
  },
  {
   "cell_type": "code",
   "execution_count": 61,
   "id": "6f9e3cab",
   "metadata": {},
   "outputs": [
    {
     "data": {
      "text/plain": [
       "numpy.ndarray"
      ]
     },
     "execution_count": 61,
     "metadata": {},
     "output_type": "execute_result"
    }
   ],
   "source": [
    "type(center_vector)"
   ]
  },
  {
   "cell_type": "code",
   "execution_count": 62,
   "id": "fcd21703",
   "metadata": {},
   "outputs": [
    {
     "data": {
      "text/plain": [
       "str"
      ]
     },
     "execution_count": 62,
     "metadata": {},
     "output_type": "execute_result"
    }
   ],
   "source": [
    "type(df2['embedding'][0])"
   ]
  },
  {
   "cell_type": "code",
   "execution_count": 65,
   "id": "dfdeabc6",
   "metadata": {},
   "outputs": [
    {
     "name": "stderr",
     "output_type": "stream",
     "text": [
      "/var/folders/9x/j_7cm_y109b5sg5tpf7h7gxm0000gn/T/ipykernel_74863/4078878730.py:11: RuntimeWarning: invalid value encountered in scalar divide\n",
      "  return np.dot(a, b) / (np.linalg.norm(a) * np.linalg.norm(b))\n"
     ]
    }
   ],
   "source": [
    "import re\n",
    "# 将错误格式字符串转为 numpy 向量的函数\n",
    "def parse_embedding_string(s):\n",
    "    # 去除方括号，分割空格，然后转成 float\n",
    "    s_clean = re.sub(r'[\\[\\]]', '', s)  # 去掉中括号\n",
    "    num_list = [float(x) for x in s_clean.strip().split()]\n",
    "    return np.array(num_list)\n",
    "\n",
    "# 计算余弦相似度\n",
    "def cosine_sim(a, b):\n",
    "    return np.dot(a, b) / (np.linalg.norm(a) * np.linalg.norm(b))\n",
    "\n",
    "# 应用\n",
    "df2[\"embedding_array\"] = df2[\"embedding\"].apply(parse_embedding_string)\n",
    "df2[\"y_mean\"] = df2[\"embedding_array\"].apply(lambda x: cosine_sim(x, center_vector))"
   ]
  },
  {
   "cell_type": "code",
   "execution_count": 19,
   "id": "dd9f65bd",
   "metadata": {},
   "outputs": [],
   "source": [
    "import pandas as pd\n",
    "df = pd.read_csv('tollm_clean.csv')"
   ]
  },
  {
   "cell_type": "code",
   "execution_count": 20,
   "id": "04b4fcb7",
   "metadata": {},
   "outputs": [
    {
     "data": {
      "text/plain": [
       "(33983, 4)"
      ]
     },
     "execution_count": 20,
     "metadata": {},
     "output_type": "execute_result"
    }
   ],
   "source": [
    "df.shape"
   ]
  },
  {
   "cell_type": "code",
   "execution_count": 24,
   "id": "84e8008e",
   "metadata": {},
   "outputs": [
    {
     "name": "stderr",
     "output_type": "stream",
     "text": [
      "计算相似度: 100%|██████████| 33983/33983 [00:17<00:00, 1950.48it/s]\n"
     ]
    }
   ],
   "source": [
    "import numpy as np\n",
    "from numpy import dot\n",
    "from numpy.linalg import norm\n",
    "from tqdm import tqdm  # ✅ 引入进度条库\n",
    "\n",
    "# 定义余弦相似度\n",
    "def cosine_similarity(vec1, vec2):\n",
    "    if norm(vec1) == 0 or norm(vec2) == 0:\n",
    "        return 0.0\n",
    "    return dot(vec1, vec2) / (norm(vec1) * norm(vec2))\n",
    "\n",
    "# 获取句子嵌入\n",
    "def get_sentence_embedding(sentence, model):\n",
    "    tokens = list(sentence)  # 如果是按词训练，用 list(jieba.cut(sentence))\n",
    "    vectors = [model[token] for token in tokens if token in model]\n",
    "    if vectors:\n",
    "        return np.mean(vectors, axis=0)\n",
    "    else:\n",
    "        return np.zeros(model.vector_size)\n",
    "\n",
    "# 初始化新列\n",
    "df['y1'] = 0.0\n",
    "df['y2'] = 0.0\n",
    "df['y3'] = 0.0\n",
    "\n",
    "# 获取关键词向量（提前）\n",
    "vec1 = model.get_vector('就业难') if '就业难' in model else np.zeros(model.vector_size)\n",
    "vec2 = model.get_vector('招工难') if '招工难' in model else np.zeros(model.vector_size)\n",
    "vec3 = model.get_vector('用工荒') if '用工荒' in model else np.zeros(model.vector_size)\n",
    "\n",
    "df = pd.read_csv('tollm_clean.csv')\n",
    "df['原微博内容'] = df['原微博内容'].fillna('')\n",
    "\n",
    "# 遍历数据，计算相似度（加上 tqdm 进度条）\n",
    "for i, row in tqdm(df.iterrows(), total=len(df), desc=\"计算相似度\"):\n",
    "    embedding = get_sentence_embedding(row['原微博内容'], model)\n",
    "    df.loc[i, 'y1'] = cosine_similarity(embedding, vec1)\n",
    "    df.loc[i, 'y2'] = cosine_similarity(embedding, vec2)\n",
    "    df.loc[i, 'y3'] = cosine_similarity(embedding, vec3)\n"
   ]
  },
  {
   "cell_type": "code",
   "execution_count": 25,
   "id": "a6dd17d2",
   "metadata": {},
   "outputs": [
    {
     "data": {
      "text/html": [
       "<div>\n",
       "<style scoped>\n",
       "    .dataframe tbody tr th:only-of-type {\n",
       "        vertical-align: middle;\n",
       "    }\n",
       "\n",
       "    .dataframe tbody tr th {\n",
       "        vertical-align: top;\n",
       "    }\n",
       "\n",
       "    .dataframe thead th {\n",
       "        text-align: right;\n",
       "    }\n",
       "</style>\n",
       "<table border=\"1\" class=\"dataframe\">\n",
       "  <thead>\n",
       "    <tr style=\"text-align: right;\">\n",
       "      <th></th>\n",
       "      <th>MID</th>\n",
       "      <th>原微博内容</th>\n",
       "      <th>num_vn</th>\n",
       "      <th>vn_list</th>\n",
       "      <th>y1</th>\n",
       "      <th>y2</th>\n",
       "      <th>y3</th>\n",
       "    </tr>\n",
       "  </thead>\n",
       "  <tbody>\n",
       "    <tr>\n",
       "      <th>0</th>\n",
       "      <td>4.841876e+15</td>\n",
       "      <td>推友@GuyP发现，#OpenAI#的最新模型ChatGPT，好像只能生成最基本的提示。Ch...</td>\n",
       "      <td>4</td>\n",
       "      <td>['是Instruct', '进行交互', '承认错误', '尝试纠错']</td>\n",
       "      <td>0.384552</td>\n",
       "      <td>0.406587</td>\n",
       "      <td>0.400894</td>\n",
       "    </tr>\n",
       "    <tr>\n",
       "      <th>1</th>\n",
       "      <td>4.841893e+15</td>\n",
       "      <td>【今日新闻】#马斯克与库克误会解除#当地时间周三下午，马斯克在推特上发布了一段苹果总部的视频...</td>\n",
       "      <td>7</td>\n",
       "      <td>['招污点', '获星1.', '跑分意外', '推出聊天版', '回答问题', '承认错误...</td>\n",
       "      <td>0.400813</td>\n",
       "      <td>0.459998</td>\n",
       "      <td>0.450493</td>\n",
       "    </tr>\n",
       "    <tr>\n",
       "      <th>2</th>\n",
       "      <td>4.841901e+15</td>\n",
       "      <td>OpenAI新模型来了！全新对话模型ChatGPT，可以回答用户问题，还能挑出问题的错误之处...</td>\n",
       "      <td>3</td>\n",
       "      <td>['回答用户', '挑出问题', '承认错误']</td>\n",
       "      <td>0.393087</td>\n",
       "      <td>0.422460</td>\n",
       "      <td>0.411385</td>\n",
       "    </tr>\n",
       "    <tr>\n",
       "      <th>3</th>\n",
       "      <td>4.842234e+15</td>\n",
       "      <td>【让AI生成AI绘画提示词，#OpenAI最新成果ChatGPT被网友玩坏#了！还会写代码修...</td>\n",
       "      <td>15</td>\n",
       "      <td>['写代码', '生成代码', '修复bug', '有脑洞', '设计游戏', '是AI',...</td>\n",
       "      <td>0.379966</td>\n",
       "      <td>0.415921</td>\n",
       "      <td>0.421462</td>\n",
       "    </tr>\n",
       "    <tr>\n",
       "      <th>4</th>\n",
       "      <td>4.842255e+15</td>\n",
       "      <td>试着和ChatGPT聊了几句，它把我的问题解决了。OOpenAI新上线GPT太强了，服务器瞬...</td>\n",
       "      <td>1</td>\n",
       "      <td>['OOpenAI新']</td>\n",
       "      <td>0.364332</td>\n",
       "      <td>0.405896</td>\n",
       "      <td>0.400272</td>\n",
       "    </tr>\n",
       "  </tbody>\n",
       "</table>\n",
       "</div>"
      ],
      "text/plain": [
       "            MID                                              原微博内容  num_vn  \\\n",
       "0  4.841876e+15  推友@GuyP发现，#OpenAI#的最新模型ChatGPT，好像只能生成最基本的提示。Ch...       4   \n",
       "1  4.841893e+15  【今日新闻】#马斯克与库克误会解除#当地时间周三下午，马斯克在推特上发布了一段苹果总部的视频...       7   \n",
       "2  4.841901e+15  OpenAI新模型来了！全新对话模型ChatGPT，可以回答用户问题，还能挑出问题的错误之处...       3   \n",
       "3  4.842234e+15  【让AI生成AI绘画提示词，#OpenAI最新成果ChatGPT被网友玩坏#了！还会写代码修...      15   \n",
       "4  4.842255e+15  试着和ChatGPT聊了几句，它把我的问题解决了。OOpenAI新上线GPT太强了，服务器瞬...       1   \n",
       "\n",
       "                                             vn_list        y1        y2  \\\n",
       "0              ['是Instruct', '进行交互', '承认错误', '尝试纠错']  0.384552  0.406587   \n",
       "1  ['招污点', '获星1.', '跑分意外', '推出聊天版', '回答问题', '承认错误...  0.400813  0.459998   \n",
       "2                           ['回答用户', '挑出问题', '承认错误']  0.393087  0.422460   \n",
       "3  ['写代码', '生成代码', '修复bug', '有脑洞', '设计游戏', '是AI',...  0.379966  0.415921   \n",
       "4                                       ['OOpenAI新']  0.364332  0.405896   \n",
       "\n",
       "         y3  \n",
       "0  0.400894  \n",
       "1  0.450493  \n",
       "2  0.411385  \n",
       "3  0.421462  \n",
       "4  0.400272  "
      ]
     },
     "execution_count": 25,
     "metadata": {},
     "output_type": "execute_result"
    }
   ],
   "source": [
    "df.head()"
   ]
  },
  {
   "cell_type": "code",
   "execution_count": 26,
   "id": "299caa5b",
   "metadata": {},
   "outputs": [],
   "source": [
    "df.to_csv('embedding提取y.csv', index=False)"
   ]
  },
  {
   "cell_type": "markdown",
   "id": "89824c08",
   "metadata": {},
   "source": [
    "# 合并"
   ]
  },
  {
   "cell_type": "code",
   "execution_count": 37,
   "id": "4cc3248b",
   "metadata": {},
   "outputs": [],
   "source": [
    "df1 = pd.read_csv('new_task_nb.csv')"
   ]
  },
  {
   "cell_type": "code",
   "execution_count": 46,
   "id": "2ecda100",
   "metadata": {},
   "outputs": [
    {
     "data": {
      "text/html": [
       "<div>\n",
       "<style scoped>\n",
       "    .dataframe tbody tr th:only-of-type {\n",
       "        vertical-align: middle;\n",
       "    }\n",
       "\n",
       "    .dataframe tbody tr th {\n",
       "        vertical-align: top;\n",
       "    }\n",
       "\n",
       "    .dataframe thead th {\n",
       "        text-align: right;\n",
       "    }\n",
       "</style>\n",
       "<table border=\"1\" class=\"dataframe\">\n",
       "  <thead>\n",
       "    <tr style=\"text-align: right;\">\n",
       "      <th></th>\n",
       "      <th>user_id</th>\n",
       "      <th>MID</th>\n",
       "      <th>time</th>\n",
       "      <th>任务数量</th>\n",
       "      <th>half_year</th>\n",
       "    </tr>\n",
       "  </thead>\n",
       "  <tbody>\n",
       "    <tr>\n",
       "      <th>0</th>\n",
       "      <td>6.105753e+09</td>\n",
       "      <td>4.841876e+15</td>\n",
       "      <td>1.0</td>\n",
       "      <td>3.0</td>\n",
       "      <td>1.0</td>\n",
       "    </tr>\n",
       "    <tr>\n",
       "      <th>1</th>\n",
       "      <td>6.105753e+09</td>\n",
       "      <td>4.841893e+15</td>\n",
       "      <td>1.0</td>\n",
       "      <td>2.0</td>\n",
       "      <td>1.0</td>\n",
       "    </tr>\n",
       "    <tr>\n",
       "      <th>2</th>\n",
       "      <td>5.703922e+09</td>\n",
       "      <td>4.841901e+15</td>\n",
       "      <td>1.0</td>\n",
       "      <td>3.0</td>\n",
       "      <td>1.0</td>\n",
       "    </tr>\n",
       "    <tr>\n",
       "      <th>3</th>\n",
       "      <td>6.105753e+09</td>\n",
       "      <td>4.842234e+15</td>\n",
       "      <td>1.0</td>\n",
       "      <td>7.0</td>\n",
       "      <td>1.0</td>\n",
       "    </tr>\n",
       "    <tr>\n",
       "      <th>4</th>\n",
       "      <td>3.996876e+09</td>\n",
       "      <td>4.842255e+15</td>\n",
       "      <td>1.0</td>\n",
       "      <td>0.0</td>\n",
       "      <td>1.0</td>\n",
       "    </tr>\n",
       "  </tbody>\n",
       "</table>\n",
       "</div>"
      ],
      "text/plain": [
       "        user_id           MID  time  任务数量  half_year\n",
       "0  6.105753e+09  4.841876e+15   1.0   3.0        1.0\n",
       "1  6.105753e+09  4.841893e+15   1.0   2.0        1.0\n",
       "2  5.703922e+09  4.841901e+15   1.0   3.0        1.0\n",
       "3  6.105753e+09  4.842234e+15   1.0   7.0        1.0\n",
       "4  3.996876e+09  4.842255e+15   1.0   0.0        1.0"
      ]
     },
     "execution_count": 46,
     "metadata": {},
     "output_type": "execute_result"
    }
   ],
   "source": [
    "df1.head()"
   ]
  },
  {
   "cell_type": "code",
   "execution_count": 43,
   "id": "84a18846",
   "metadata": {},
   "outputs": [],
   "source": [
    "df1 = df1.rename(columns={'user_id_x': 'user_id'})"
   ]
  },
  {
   "cell_type": "code",
   "execution_count": 44,
   "id": "7ed7dbdf",
   "metadata": {},
   "outputs": [
    {
     "data": {
      "text/plain": [
       "4841875716178180.0"
      ]
     },
     "execution_count": 44,
     "metadata": {},
     "output_type": "execute_result"
    }
   ],
   "source": [
    "(df1['MID'][0])"
   ]
  },
  {
   "cell_type": "code",
   "execution_count": 48,
   "id": "e430be75",
   "metadata": {},
   "outputs": [],
   "source": [
    "df2 = pd.merge(df1,df2,on='MID',how='inner')"
   ]
  },
  {
   "cell_type": "code",
   "execution_count": 71,
   "id": "a4d97f4d",
   "metadata": {},
   "outputs": [
    {
     "data": {
      "text/html": [
       "<div>\n",
       "<style scoped>\n",
       "    .dataframe tbody tr th:only-of-type {\n",
       "        vertical-align: middle;\n",
       "    }\n",
       "\n",
       "    .dataframe tbody tr th {\n",
       "        vertical-align: top;\n",
       "    }\n",
       "\n",
       "    .dataframe thead th {\n",
       "        text-align: right;\n",
       "    }\n",
       "</style>\n",
       "<table border=\"1\" class=\"dataframe\">\n",
       "  <thead>\n",
       "    <tr style=\"text-align: right;\">\n",
       "      <th></th>\n",
       "      <th>user_id</th>\n",
       "      <th>MID</th>\n",
       "      <th>time</th>\n",
       "      <th>任务数量</th>\n",
       "      <th>half_year</th>\n",
       "      <th>y_mean</th>\n",
       "    </tr>\n",
       "  </thead>\n",
       "  <tbody>\n",
       "    <tr>\n",
       "      <th>0</th>\n",
       "      <td>6.105753e+09</td>\n",
       "      <td>4.841876e+15</td>\n",
       "      <td>1.0</td>\n",
       "      <td>3.0</td>\n",
       "      <td>1.0</td>\n",
       "      <td>0.597849</td>\n",
       "    </tr>\n",
       "    <tr>\n",
       "      <th>1</th>\n",
       "      <td>6.105753e+09</td>\n",
       "      <td>4.841893e+15</td>\n",
       "      <td>1.0</td>\n",
       "      <td>2.0</td>\n",
       "      <td>1.0</td>\n",
       "      <td>0.610833</td>\n",
       "    </tr>\n",
       "    <tr>\n",
       "      <th>2</th>\n",
       "      <td>5.703922e+09</td>\n",
       "      <td>4.841901e+15</td>\n",
       "      <td>1.0</td>\n",
       "      <td>3.0</td>\n",
       "      <td>1.0</td>\n",
       "      <td>0.514323</td>\n",
       "    </tr>\n",
       "    <tr>\n",
       "      <th>3</th>\n",
       "      <td>6.105753e+09</td>\n",
       "      <td>4.842234e+15</td>\n",
       "      <td>1.0</td>\n",
       "      <td>7.0</td>\n",
       "      <td>1.0</td>\n",
       "      <td>0.581837</td>\n",
       "    </tr>\n",
       "    <tr>\n",
       "      <th>4</th>\n",
       "      <td>3.996876e+09</td>\n",
       "      <td>4.842255e+15</td>\n",
       "      <td>1.0</td>\n",
       "      <td>0.0</td>\n",
       "      <td>1.0</td>\n",
       "      <td>0.517511</td>\n",
       "    </tr>\n",
       "  </tbody>\n",
       "</table>\n",
       "</div>"
      ],
      "text/plain": [
       "        user_id           MID  time  任务数量  half_year    y_mean\n",
       "0  6.105753e+09  4.841876e+15   1.0   3.0        1.0  0.597849\n",
       "1  6.105753e+09  4.841893e+15   1.0   2.0        1.0  0.610833\n",
       "2  5.703922e+09  4.841901e+15   1.0   3.0        1.0  0.514323\n",
       "3  6.105753e+09  4.842234e+15   1.0   7.0        1.0  0.581837\n",
       "4  3.996876e+09  4.842255e+15   1.0   0.0        1.0  0.517511"
      ]
     },
     "execution_count": 71,
     "metadata": {},
     "output_type": "execute_result"
    }
   ],
   "source": [
    "df2.head()"
   ]
  },
  {
   "cell_type": "code",
   "execution_count": 70,
   "id": "0f38bf0d",
   "metadata": {},
   "outputs": [],
   "source": [
    "del df2['embedding_array']"
   ]
  },
  {
   "cell_type": "code",
   "execution_count": 67,
   "id": "10787b86",
   "metadata": {},
   "outputs": [],
   "source": [
    "df2.to_csv('embedding提取y.csv', index=False)"
   ]
  },
  {
   "cell_type": "code",
   "execution_count": 35,
   "id": "e507a8a9",
   "metadata": {},
   "outputs": [],
   "source": [
    "import pandas as pd\n",
    "df2 = pd.read_csv('embedding.csv')"
   ]
  },
  {
   "cell_type": "code",
   "execution_count": 73,
   "id": "774ca94e",
   "metadata": {},
   "outputs": [],
   "source": [
    "# 按 user_id 和 time 聚合，计算指定列的均值\n",
    "agg_df = df2.groupby(['user_id', 'time'])[['y_mean', '任务数量']].mean().reset_index()\n"
   ]
  },
  {
   "cell_type": "code",
   "execution_count": 74,
   "id": "fddcc19d",
   "metadata": {},
   "outputs": [
    {
     "data": {
      "text/html": [
       "<div>\n",
       "<style scoped>\n",
       "    .dataframe tbody tr th:only-of-type {\n",
       "        vertical-align: middle;\n",
       "    }\n",
       "\n",
       "    .dataframe tbody tr th {\n",
       "        vertical-align: top;\n",
       "    }\n",
       "\n",
       "    .dataframe thead th {\n",
       "        text-align: right;\n",
       "    }\n",
       "</style>\n",
       "<table border=\"1\" class=\"dataframe\">\n",
       "  <thead>\n",
       "    <tr style=\"text-align: right;\">\n",
       "      <th></th>\n",
       "      <th>user_id</th>\n",
       "      <th>time</th>\n",
       "      <th>y_mean</th>\n",
       "      <th>任务数量</th>\n",
       "    </tr>\n",
       "  </thead>\n",
       "  <tbody>\n",
       "    <tr>\n",
       "      <th>0</th>\n",
       "      <td>1.044173e+09</td>\n",
       "      <td>1.0</td>\n",
       "      <td>0.560024</td>\n",
       "      <td>1.100000</td>\n",
       "    </tr>\n",
       "    <tr>\n",
       "      <th>1</th>\n",
       "      <td>1.044173e+09</td>\n",
       "      <td>2.0</td>\n",
       "      <td>0.625234</td>\n",
       "      <td>0.000000</td>\n",
       "    </tr>\n",
       "    <tr>\n",
       "      <th>2</th>\n",
       "      <td>1.044173e+09</td>\n",
       "      <td>3.0</td>\n",
       "      <td>0.597437</td>\n",
       "      <td>0.500000</td>\n",
       "    </tr>\n",
       "    <tr>\n",
       "      <th>3</th>\n",
       "      <td>1.088413e+09</td>\n",
       "      <td>1.0</td>\n",
       "      <td>0.503239</td>\n",
       "      <td>0.878788</td>\n",
       "    </tr>\n",
       "    <tr>\n",
       "      <th>4</th>\n",
       "      <td>1.088413e+09</td>\n",
       "      <td>2.0</td>\n",
       "      <td>0.498999</td>\n",
       "      <td>3.333333</td>\n",
       "    </tr>\n",
       "  </tbody>\n",
       "</table>\n",
       "</div>"
      ],
      "text/plain": [
       "        user_id  time    y_mean      任务数量\n",
       "0  1.044173e+09   1.0  0.560024  1.100000\n",
       "1  1.044173e+09   2.0  0.625234  0.000000\n",
       "2  1.044173e+09   3.0  0.597437  0.500000\n",
       "3  1.088413e+09   1.0  0.503239  0.878788\n",
       "4  1.088413e+09   2.0  0.498999  3.333333"
      ]
     },
     "execution_count": 74,
     "metadata": {},
     "output_type": "execute_result"
    }
   ],
   "source": [
    "agg_df.head()"
   ]
  },
  {
   "cell_type": "code",
   "execution_count": 75,
   "id": "03525df3",
   "metadata": {},
   "outputs": [],
   "source": [
    "agg_df.to_csv('2025521panel.csv',index=False)"
   ]
  },
  {
   "cell_type": "code",
   "execution_count": 27,
   "id": "2fbd3ddc",
   "metadata": {},
   "outputs": [],
   "source": [
    "df3 = pd.read_csv('514panel.csv')"
   ]
  },
  {
   "cell_type": "code",
   "execution_count": 28,
   "id": "b017ba4a",
   "metadata": {},
   "outputs": [],
   "source": [
    "del df3['任务数量']"
   ]
  },
  {
   "cell_type": "code",
   "execution_count": 29,
   "id": "2ca4058f",
   "metadata": {},
   "outputs": [],
   "source": [
    "df4 = pd.merge(agg_df, df3, on=['time', 'user_id'], how='inner')"
   ]
  },
  {
   "cell_type": "code",
   "execution_count": 30,
   "id": "2a4de14e",
   "metadata": {},
   "outputs": [
    {
     "data": {
      "text/plain": [
       "Index(['user_id', 'time', 'y_mean', '任务数量', 'y1', 'y2', 'y3', 'Social',\n",
       "       'Culture', 'Lifestyle', 'Perception', 'count', 'task_num', 'prosocial',\n",
       "       'topic', '转发数', '评论数', '点赞数', '性别', '关注数', '粉丝数', '微博数', '是否认证', '认证类型',\n",
       "       'avg_score', 'avg_indi', 'avg_bind', 'avg_altr', 'avg_auth', 'avg_care',\n",
       "       'avg_dili', 'avg_fair', 'avg_general', 'avg_libe', 'avg_loya',\n",
       "       'avg_mode', 'avg_resi', 'avg_sanc', 'avg_wast', 'Drives', 'Cognition',\n",
       "       'affect', 'Relative', 'tech', 'avg_happy', 'avg_good', 'avg_surprise',\n",
       "       'avg_sad', 'avg_fear', 'avg_disgust', 'avg_anger'],\n",
       "      dtype='object')"
      ]
     },
     "execution_count": 30,
     "metadata": {},
     "output_type": "execute_result"
    }
   ],
   "source": [
    "df4.columns"
   ]
  },
  {
   "cell_type": "code",
   "execution_count": 32,
   "id": "5dd2fe13",
   "metadata": {},
   "outputs": [
    {
     "data": {
      "text/plain": [
       "count\n",
       "1      244\n",
       "2      145\n",
       "3      108\n",
       "4       78\n",
       "6       66\n",
       "      ... \n",
       "81       1\n",
       "186      1\n",
       "164      1\n",
       "368      1\n",
       "112      1\n",
       "Name: count, Length: 145, dtype: int64"
      ]
     },
     "execution_count": 32,
     "metadata": {},
     "output_type": "execute_result"
    }
   ],
   "source": [
    "df4['count'].value_counts()"
   ]
  },
  {
   "cell_type": "code",
   "execution_count": 31,
   "id": "10c6e981",
   "metadata": {},
   "outputs": [],
   "source": [
    "df4.to_csv('521panel.csv', index=False)"
   ]
  },
  {
   "cell_type": "code",
   "execution_count": null,
   "id": "b70606e2",
   "metadata": {},
   "outputs": [],
   "source": []
  }
 ],
 "metadata": {
  "kernelspec": {
   "display_name": "causal",
   "language": "python",
   "name": "python3"
  },
  "language_info": {
   "codemirror_mode": {
    "name": "ipython",
    "version": 3
   },
   "file_extension": ".py",
   "mimetype": "text/x-python",
   "name": "python",
   "nbconvert_exporter": "python",
   "pygments_lexer": "ipython3",
   "version": "3.10.13"
  }
 },
 "nbformat": 4,
 "nbformat_minor": 5
}
